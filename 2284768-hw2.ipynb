{
 "cells": [
  {
   "cell_type": "markdown",
   "id": "overall-convert",
   "metadata": {},
   "source": [
    "# Learning Outcomes \n",
    "- Performing basis changes and measurements in other bases.\n",
    "- Visualization of qubits and the action of single qubit quantum gates on Bloch sphere.\n",
    "- Representing multiple qubit states using tensor products.\n",
    "- Entangled states and interesting CNOT operations."
   ]
  },
  {
   "cell_type": "code",
   "execution_count": 197,
   "id": "homeless-pregnancy",
   "metadata": {},
   "outputs": [],
   "source": [
    "from qiskit import QuantumCircuit, Aer, assemble\n",
    "from qiskit_textbook.tools import array_to_latex\n",
    "from qiskit.visualization import plot_bloch_multivector, plot_histogram\n",
    "from qiskit_textbook.widgets import gate_demo\n",
    "#array_to_latex(unitary, pretext=\"\\\\text{Circuit = }\\n\")"
   ]
  },
  {
   "cell_type": "markdown",
   "id": "horizontal-broadcast",
   "metadata": {},
   "source": [
    "# Non-standard Basis\n",
    "\n",
    "We call the basis $\\{ |0 \\rangle, |1 \\rangle \\} $ the standard, or computational basis. As you may have noticed this is the eigenbasis for $Z$ operator. When we call $\\textit{measure()}$ method in Qiskit, we perform measurement in the computational basis. However, there are ways to perform measurements in other bases as well, kind of.\n"
   ]
  },
  {
   "cell_type": "markdown",
   "id": "trying-negative",
   "metadata": {},
   "source": [
    "We define $\\textit{sign basis}$, $|+\\rangle,|-\\rangle$ as follows:\n",
    "\n",
    "$$ | + \\rangle = \\begin{bmatrix} \\frac{1}{\\sqrt{2}} \\\\ \\frac{1}{\\sqrt{2}}  \\end{bmatrix} $$\n",
    "\n",
    "$$ | - \\rangle = \\begin{bmatrix} \\frac{1}{\\sqrt{2}} \\\\ -\\frac{1}{\\sqrt{2}}  \\end{bmatrix} $$"
   ]
  },
  {
   "cell_type": "markdown",
   "id": "premier-coordinator",
   "metadata": {},
   "source": [
    "# Exercise 1\n",
    "\n",
    "How can we perform a measurement in the sign basis using Qiskit? "
   ]
  },
  {
   "cell_type": "markdown",
   "id": "cooked-champagne",
   "metadata": {},
   "source": [
    "# Answer\n",
    "Simply, we need to apply H gate before measurement."
   ]
  },
  {
   "cell_type": "markdown",
   "id": "native-cassette",
   "metadata": {},
   "source": [
    "Let's visualize the action of the single qubit gates we have learned so far to get a better understanding of this process."
   ]
  },
  {
   "cell_type": "code",
   "execution_count": 198,
   "id": "august-shuttle",
   "metadata": {},
   "outputs": [
    {
     "name": "stderr",
     "output_type": "stream",
     "text": [
      "/opt/conda/lib/python3.8/site-packages/qiskit/visualization/bloch.py:69: MatplotlibDeprecationWarning: \n",
      "The M attribute was deprecated in Matplotlib 3.4 and will be removed two minor releases later. Use self.axes.M instead.\n",
      "  x_s, y_s, _ = proj3d.proj_transform(xs3d, ys3d, zs3d, renderer.M)\n"
     ]
    },
    {
     "data": {
      "application/vnd.jupyter.widget-view+json": {
       "model_id": "6bd609305924423bb624b65b330a40a5",
       "version_major": 2,
       "version_minor": 0
      },
      "text/plain": [
       "HBox(children=(Button(description='X', layout=Layout(height='3em', width='3em'), style=ButtonStyle()), Button(…"
      ]
     },
     "metadata": {},
     "output_type": "display_data"
    },
    {
     "data": {
      "application/vnd.jupyter.widget-view+json": {
       "model_id": "082b50fcdca946c39f7f71212cb5a1a0",
       "version_major": 2,
       "version_minor": 0
      },
      "text/plain": [
       "Image(value=b'\\x89PNG\\r\\n\\x1a\\n\\x00\\x00\\x00\\rIHDR\\x00\\x00\\x01 \\x00\\x00\\x01 \\x08\\x06\\x00\\x00\\x00\\x14\\x83\\xae\\x8…"
      ]
     },
     "metadata": {},
     "output_type": "display_data"
    }
   ],
   "source": [
    "gate_demo('pauli+h')"
   ]
  },
  {
   "cell_type": "markdown",
   "id": "outside-flush",
   "metadata": {},
   "source": [
    "So Hadamard gate performs the following transformation:\n",
    "$$ |0 \\rangle \\leftrightarrow |+ \\rangle $$\n",
    "$$ |1 \\rangle \\leftrightarrow |- \\rangle $$"
   ]
  },
  {
   "cell_type": "markdown",
   "id": "dedicated-hamburg",
   "metadata": {},
   "source": [
    "Therefore, if we apply a $H$ gate just before the measurement, we will practically be measuring with respect to the sign basis."
   ]
  },
  {
   "cell_type": "markdown",
   "id": "precious-depth",
   "metadata": {},
   "source": [
    "# Exercise 2\n",
    "\n",
    "Write a function that takes in a QuantumCircuit and performs a measurement in the sign basis on all the qubits."
   ]
  },
  {
   "cell_type": "code",
   "execution_count": 199,
   "id": "abroad-helicopter",
   "metadata": {},
   "outputs": [],
   "source": [
    "def sign_measure_all(qc):\n",
    "    '''\n",
    "        Adds a measurement gate in sign basis to all qubits.\n",
    "    '''\n",
    "    for i in range(qc.num_qubits):\n",
    "        qc.h(i)\n",
    "    qc.measure_all()\n",
    "    \n",
    "    "
   ]
  },
  {
   "cell_type": "code",
   "execution_count": 200,
   "id": "treated-machinery",
   "metadata": {},
   "outputs": [
    {
     "data": {
      "image/png": "[encoded data removed]",
      "text/plain": [
       "<Figure size 206.997x264.88 with 1 Axes>"
      ]
     },
     "execution_count": 200,
     "metadata": {},
     "output_type": "execute_result"
    }
   ],
   "source": [
    "qc = QuantumCircuit(4)\n",
    "# Let's transform our qubits to the state |++-->\n",
    "# all qubits are initialized to |0> state, so we must transform the first two qubits to |1> \n",
    "# state before transforming all of them to the sign basis.\n",
    "qc.x([0,1])\n",
    "qc.h([0,1,2,3])\n",
    "qc.draw()"
   ]
  },
  {
   "cell_type": "code",
   "execution_count": 201,
   "id": "competitive-height",
   "metadata": {},
   "outputs": [],
   "source": [
    "qasmsim = Aer.get_backend('qasm_simulator')\n",
    "unisim = Aer.get_backend('unitary_simulator')\n",
    "svsim = Aer.get_backend('statevector_simulator')"
   ]
  },
  {
   "cell_type": "code",
   "execution_count": 202,
   "id": "ceramic-feelings",
   "metadata": {},
   "outputs": [
    {
     "data": {
      "image/png": "[encoded data removed]",
      "text/plain": [
       "<Figure size 658.679x325.08 with 1 Axes>"
      ]
     },
     "execution_count": 202,
     "metadata": {},
     "output_type": "execute_result"
    }
   ],
   "source": [
    "# Let's see if the function is working\n",
    "qc.barrier()\n",
    "sign_measure_all(qc)\n",
    "qc.draw()"
   ]
  },
  {
   "cell_type": "code",
   "execution_count": 203,
   "id": "empty-massachusetts",
   "metadata": {},
   "outputs": [
    {
     "data": {
      "image/png": "[encoded data removed]",
      "text/plain": [
       "<Figure size 504x360 with 1 Axes>"
      ]
     },
     "execution_count": 203,
     "metadata": {},
     "output_type": "execute_result"
    }
   ],
   "source": [
    "counts = qasmsim.run(assemble(qc),shots=1000).result().get_counts()\n",
    "plot_histogram(counts)"
   ]
  },
  {
   "cell_type": "markdown",
   "id": "valid-cycling",
   "metadata": {},
   "source": [
    "# Exercise 3\n",
    "\n",
    "Write a function that takes in a QuantumCircuit and performs a measurement in the y basis on all the qubits."
   ]
  },
  {
   "cell_type": "code",
   "execution_count": 204,
   "id": "acquired-trainer",
   "metadata": {},
   "outputs": [],
   "source": [
    "def y_measure_all(qc):\n",
    "    '''\n",
    "        Adds a measurement gate in Y-basis to all qubits.hes\n",
    "        how can you change 0 to y and 1 to -y\n",
    "    '''\n",
    "    nqbits = qc.num_qubits\n",
    "    \n",
    "    for i in range (nqbits):\n",
    "        qc.h(i) # initilization of state\n",
    "        qc.sdg(i) # apply S^dagger \n",
    "        qc.h(i) # apply Hadamard gate\n",
    "    qc.measure_all()\n"
   ]
  },
  {
   "cell_type": "code",
   "execution_count": 205,
   "id": "332fc849",
   "metadata": {},
   "outputs": [
    {
     "data": {
      "image/png": "[encoded data removed]",
      "text/plain": [
       "<Figure size 779.079x325.08 with 1 Axes>"
      ]
     },
     "execution_count": 205,
     "metadata": {},
     "output_type": "execute_result"
    }
   ],
   "source": [
    "qc = QuantumCircuit(4)\n",
    "qc.x([0,1])\n",
    "qc.h([0,1,2,3])\n",
    "qc.barrier()\n",
    "y_measure_all(qc)\n",
    "qc.draw()\n"
   ]
  },
  {
   "cell_type": "code",
   "execution_count": 206,
   "id": "hired-cedar",
   "metadata": {},
   "outputs": [
    {
     "name": "stderr",
     "output_type": "stream",
     "text": [
      "/opt/conda/lib/python3.8/site-packages/qiskit/visualization/bloch.py:69: MatplotlibDeprecationWarning: \n",
      "The M attribute was deprecated in Matplotlib 3.4 and will be removed two minor releases later. Use self.axes.M instead.\n",
      "  x_s, y_s, _ = proj3d.proj_transform(xs3d, ys3d, zs3d, renderer.M)\n"
     ]
    },
    {
     "data": {
      "application/vnd.jupyter.widget-view+json": {
       "model_id": "db45c1d4f746427db58260b7e454f6fd",
       "version_major": 2,
       "version_minor": 0
      },
      "text/plain": [
       "VBox(children=(HBox(children=(Button(description='I', layout=Layout(height='3em', width='3em'), style=ButtonSt…"
      ]
     },
     "metadata": {},
     "output_type": "display_data"
    },
    {
     "data": {
      "application/vnd.jupyter.widget-view+json": {
       "model_id": "6cee7fdf9ce14a099186e5fc3725d359",
       "version_major": 2,
       "version_minor": 0
      },
      "text/plain": [
       "Image(value=b'\\x89PNG\\r\\n\\x1a\\n\\x00\\x00\\x00\\rIHDR\\x00\\x00\\x01 \\x00\\x00\\x01 \\x08\\x06\\x00\\x00\\x00\\x14\\x83\\xae\\x8…"
      ]
     },
     "metadata": {},
     "output_type": "display_data"
    }
   ],
   "source": [
    "gate_demo()"
   ]
  },
  {
   "cell_type": "markdown",
   "id": "incredible-limit",
   "metadata": {},
   "source": [
    "# Exercise 3.2 \n",
    "\n",
    "Write a function that takes in a quantum circuit with two qubits and performs a measurement in the following basis:\n",
    "\n",
    "$$ | \\Psi^+ \\rangle = \\frac{1}{\\sqrt{2}} | 00 \\rangle + \\frac{1}{\\sqrt{2}} | 11 \\rangle $$"
   ]
  },
  {
   "cell_type": "code",
   "execution_count": 207,
   "id": "naked-curtis",
   "metadata": {},
   "outputs": [],
   "source": [
    "def bell_measurement(qc):\n",
    "    '''\n",
    "        Adds a measurement in Bell basis to qc.\n",
    "        Hint: Do you remember how we initialized this state? \n",
    "    '''\n",
    "    qc.cx(0,1)\n",
    "    qc.h(0)\n",
    "    qc.measure_all()\n"
   ]
  },
  {
   "cell_type": "code",
   "execution_count": 208,
   "id": "israeli-coaching",
   "metadata": {},
   "outputs": [
    {
     "name": "stdout",
     "output_type": "stream",
     "text": [
      "welldone!\n"
     ]
    }
   ],
   "source": [
    "qc = QuantumCircuit(2)\n",
    "qc.h(0)\n",
    "qc.cx(0,1)\n",
    "bell_measurement(qc)\n",
    "counts = qasmsim.run(assemble(qc),shots=1000).result().get_counts()\n",
    "if counts == {'00':1000}:\n",
    "    print(\"welldone!\")\n",
    "else:\n",
    "    print(\"Your function is not running properly.\")"
   ]
  },
  {
   "cell_type": "markdown",
   "id": "italian-suspension",
   "metadata": {},
   "source": [
    "# Multiple Qubit States\n",
    "\n",
    "We can represent any single qubit pure quantum state as:\n",
    "\n",
    "$$ |\\Psi \\rangle = \\alpha | 0 \\rangle + \\beta | 1 \\rangle $$\n",
    "\n",
    "How do we represent multiple qubit pure quantum states? \n",
    "We use tensor products. For example, if we have a two qubit quantum state, then there are four possible state for our qubits. Namely, {00,01,10,11}. We represent an arbitrary superposition as:\n",
    "\n",
    "$$ |q_1 \\rangle \\otimes | q_2 \\rangle = a_{00}|00 \\rangle + a_{01}|01 \\rangle + a_{10}|10 \\rangle + a_{11}|11 \\rangle   = \\begin{bmatrix} a_{00} \\\\ a_{01} \\\\ a_{10} \\\\ a_{11}\\end{bmatrix} $$\n"
   ]
  },
  {
   "cell_type": "markdown",
   "id": "alpine-affiliate",
   "metadata": {},
   "source": [
    "# Exercise 4\n",
    "\n",
    "If we have n qubits, what is the dimension of a statevector in this Hilbert space?\n"
   ]
  },
  {
   "cell_type": "markdown",
   "id": "adopted-natural",
   "metadata": {},
   "source": [
    "# Answer \n",
    "\n",
    "# $$   2^n $$"
   ]
  },
  {
   "cell_type": "markdown",
   "id": "quarterly-oklahoma",
   "metadata": {},
   "source": [
    "One good thing about using little-endian representation, the one which Qiskit uses, is that we can consider each bitstring as representing a decimal number and the corresponding index will simply be this number. For example, when we are asked how can we get the amplitude of $|010\\rangle$ state in a given statevector, we can simply check $2^{nd}$ element of the statevector."
   ]
  },
  {
   "cell_type": "markdown",
   "id": "decimal-maintenance",
   "metadata": {},
   "source": [
    "# Exercise 5\n",
    "\n",
    "Let's say we are representing each amplitude with a complex number in Python, and each complex number takes up 80 Bytes of memory. Then, how many bytes do we need to represent a quantum state describing a quantum circuit with 10 qubits?"
   ]
  },
  {
   "cell_type": "markdown",
   "id": "competitive-coffee",
   "metadata": {},
   "source": [
    "# Answer\n",
    "\n",
    "$$ 80 bytes * 2^{10} = 0.082Mb $$\n"
   ]
  },
  {
   "cell_type": "markdown",
   "id": "faced-thumb",
   "metadata": {},
   "source": [
    "# Exercise 6\n",
    "\n",
    "Let's say we are trying to simulate the action of a Hamiltonian on a large quantum system, and let's say this Hamiltonian acts on 30 qubits. Let's say we are using something like C, instead of Python, to make a better use of the memory. Therefore, let's say each complex number requires not 80 Bytes, but simply 8 bytes. Then answer the following questions:\n",
    "- What is the size of a statevector in this Hilbert space?\n",
    "- What are the dimensions of the Hamiltonian matrix ?\n",
    "- How many bytes are required to represent a statevector ? Is it of the order of Megabytes,Gigabytes, or something else ?\n",
    "- How many bytes are required to represent the Hamiltonian matrix assuming that we need a complex number for each element in the matrix ? Is it of the order of Megabytes, Gigabytes, or something else ?\n",
    "- Can you store both the Hamiltonian matrix and the statevector in your own computer?"
   ]
  },
  {
   "cell_type": "markdown",
   "id": "faced-lighter",
   "metadata": {},
   "source": [
    "# Answers\n",
    "- $$ 2^{30} \\times 1 $$\n",
    "- $$ 2^{30} \\times 2^{30} $$\n",
    "- $$ 2^{30} \\times 8 bytes = 8.58993459GB $$\n",
    "- $$ 2^{30} \\times 2^{30} \\times 8 bytes= 9.22337204 ExaBytes$$\n",
    "- No way... \n"
   ]
  },
  {
   "cell_type": "markdown",
   "id": "macro-hacker",
   "metadata": {},
   "source": [
    "Answering the questions above should give you a clear idea about the computing power of a quantum computer, and why we can't simply use classical computers to simulate them."
   ]
  },
  {
   "cell_type": "markdown",
   "id": "rough-verse",
   "metadata": {},
   "source": [
    "# Product and Entangled States\n",
    "\n",
    "Not all multiple qubit states can be represented as tensor products. For example, let's take the following state:\n",
    "\n",
    "$$ | \\Phi^+ \\rangle = \\frac{1}{\\sqrt{2}} | 00 \\rangle + \\frac{1}{\\sqrt{2}} | 11 \\rangle  $$ \n",
    "\n",
    "We can't write it down as a tensor product of two states. We can make a proof by contraction to prove this. Let's assume that we can actually write it down:\n",
    "\n",
    "$$ | \\Phi^+ \\rangle = (a_0 |0 \\rangle + a_1 |1 \\rangle ) \\otimes (b_0 | 0 \\rangle + b_1 |1 \\rangle) $$\n",
    "\n",
    "Since the tensor product operator is a linear operator, we can distribute it:\n",
    "\n",
    "$$ \\frac{1}{\\sqrt{2}} | 00 \\rangle + \\frac{1}{\\sqrt{2}} | 11 \\rangle = a_0 b_0 |00 \\rangle + a_0 b_1 |01 \\rangle + a_1 b_0 | 10 \\rangle + a_1 b_1 | 11 \\rangle $$ \n",
    "\n",
    "Well, the coefficients should be the same for both states since they are equal. If we try to equate the coefficient of $ | 01 \\rangle $ to zero we get the following logical chains:\n",
    "\n",
    "$$ a_0 \\neq 0  \\rightarrow b_1 = 0 \\rightarrow \\text{coeff of } |11 \\rangle = 0$$\n",
    "\n",
    "$$ b_1 \\neq 0 \\rightarrow  a_0 = 0 \\rightarrow \\text{coeff of } |00 \\rangle = 0 $$\n",
    "\n",
    "Which entails a contradiction, implying that our inital assumption that $| \\Phi^+ \\rangle$ could be written as tensor product of two states."
   ]
  },
  {
   "cell_type": "markdown",
   "id": "excessive-techno",
   "metadata": {},
   "source": [
    "# Exercise 7\n",
    "\n",
    "Write the following state as the tensor product of two states:\n",
    "\n",
    "$$ | \\Psi \\rangle = \\frac{1}{\\sqrt{2}} | 00 \\rangle + \\frac{i}{\\sqrt{2}} | 01 \\rangle $$  "
   ]
  },
  {
   "cell_type": "markdown",
   "id": "expected-regulation",
   "metadata": {},
   "source": [
    "# Answer\n",
    "\n",
    "$$ (a_0 |0 \\rangle + a_1 |1 \\rangle ) \\otimes (b_0 | 0 \\rangle + b_1 |1 \\rangle) $$\n",
    "$$ (a_0 b_0 |00 \\rangle + a_0 b_1 |01 \\rangle ) + (a_1 b_0  | 10 \\rangle + a_1 b_1 |11 \\rangle) $$\n",
    "$$ (|0 \\rangle ) \\otimes (\\frac{1}{\\sqrt{2}}| 0 \\rangle +\\frac{i}{\\sqrt{2}} |1 \\rangle) $$\n"
   ]
  },
  {
   "cell_type": "markdown",
   "id": "clear-large",
   "metadata": {},
   "source": [
    "# Exercise 8\n",
    "\n",
    "Is it possible to write down the following state as the tensor product of three quantum states? If yes, prove that that can't be the case. If no, show that it can be the case. \n",
    "\n",
    "$$ | W \\rangle = \\frac{1}{\\sqrt{2}} | 000 \\rangle + \\frac{1}{\\sqrt{2}} | 111 \\rangle $$ "
   ]
  },
  {
   "cell_type": "markdown",
   "id": "local-congress",
   "metadata": {},
   "source": [
    "# Answer \n",
    "\n",
    "It is entanged so it cant be decomposable\n",
    "Proof:\n",
    "$$ | W \\rangle = \\frac{1}{\\sqrt{2}} | 000 \\rangle + \\frac{1}{\\sqrt{2}} | 111 \\rangle $$\n",
    "$$| W \\rangle = a_0 b_0 c_0|000 \\rangle + a_0 b_0 c_1|001 \\rangle +a_0 b_1 c_0|010 \\rangle + a_1 b_0 c_0|100 \\rangle + a_0 b_1 c_1|011 \\rangle + a_1 b_0 c_1|101 \\rangle + a_1 b_1 c_0|110 \\rangle  + a_1 b_1 c_1|111 \\rangle$$ \n",
    "$$ a_0*b_0 \\neq 0  \\rightarrow c_1 = 0 \\rightarrow \\text{coeff of } |111 \\rangle = 0$$\n",
    "$$ a_0*c_0 \\neq 0  \\rightarrow b_1 = 0 \\rightarrow \\text{coeff of } |111 \\rangle = 0$$\n",
    "$$ b_0*c_0 \\neq 0  \\rightarrow a_1 = 0 \\rightarrow \\text{coeff of } |111 \\rangle = 0$$\n",
    "$$ a_1*b_1 \\neq 0  \\rightarrow c_0 = 0 \\rightarrow \\text{coeff of } |000 \\rangle = 0$$\n",
    "$$ a_1*c_1 \\neq 0  \\rightarrow b_0 = 0 \\rightarrow \\text{coeff of } |000 \\rangle = 0$$\n",
    "$$ b_1*c_1 \\neq 0  \\rightarrow a_0 = 0 \\rightarrow \\text{coeff of } |000 \\rangle = 0$$\n",
    "\n",
    "So, it is contradiction.\n",
    "\n"
   ]
  },
  {
   "cell_type": "markdown",
   "id": "attached-framing",
   "metadata": {},
   "source": [
    "We can use tensor products to represent the action of a set of quantum gates on qubits as well. For example, if we have the following circuit:"
   ]
  },
  {
   "cell_type": "code",
   "execution_count": 209,
   "id": "accredited-kingston",
   "metadata": {},
   "outputs": [
    {
     "data": {
      "image/png": "[encoded data removed]",
      "text/plain": [
       "<Figure size 146.652x144.48 with 1 Axes>"
      ]
     },
     "execution_count": 209,
     "metadata": {},
     "output_type": "execute_result"
    }
   ],
   "source": [
    "qc=QuantumCircuit(2)\n",
    "qc.x(0)\n",
    "qc.h(1)\n",
    "qc.draw()"
   ]
  },
  {
   "cell_type": "markdown",
   "id": "logical-albany",
   "metadata": {},
   "source": [
    "We can represent the action of these two gates as:\n",
    "\n",
    "$$ H \\otimes X $$ \n",
    "\n",
    "Again, careful with the little-endian representation!"
   ]
  },
  {
   "cell_type": "markdown",
   "id": "mathematical-basement",
   "metadata": {},
   "source": [
    "# Exercise 9\n",
    "\n",
    "Let's say we have the following quantum circuit. How can we represent it as a tensor product?\n"
   ]
  },
  {
   "cell_type": "code",
   "execution_count": 210,
   "id": "underlying-there",
   "metadata": {},
   "outputs": [
    {
     "data": {
      "image/png": "[encoded data removed]",
      "text/plain": [
       "<Figure size 146.652x144.48 with 1 Axes>"
      ]
     },
     "execution_count": 210,
     "metadata": {},
     "output_type": "execute_result"
    }
   ],
   "source": [
    "qc=QuantumCircuit(2)\n",
    "qc.x(0)\n",
    "qc.draw()"
   ]
  },
  {
   "cell_type": "markdown",
   "id": "lined-cisco",
   "metadata": {},
   "source": [
    "# Answer\n",
    "$$ X \\otimes I $$ \n"
   ]
  },
  {
   "cell_type": "markdown",
   "id": "charitable-beginning",
   "metadata": {},
   "source": [
    "# CNOT Gate\n",
    "\n",
    "We define the action of CNOT, or CX, gate as applying an X gate to the target qubit when the control qubit is in $| 1 \\rangle $ state.\n",
    "\n",
    "$$ CNOT(1,0) |00\\rangle = |00 \\rangle, \\quad  CNOT(1,0) |01 \\rangle = |01 \\rangle $$\n",
    "$$ CNOT(1,0) |10\\rangle = |11 \\rangle, \\quad  CNOT(1,0) |11 \\rangle = |10 \\rangle $$\n",
    "\n",
    "Note that CNOT gate is mainly used for creating entanglement between two qubits. But it does not create entanglement on all the cases."
   ]
  },
  {
   "cell_type": "markdown",
   "id": "through-constraint",
   "metadata": {},
   "source": [
    "# Exercise 10\n",
    "\n",
    "We define CY gate just like we defined CX gate, it applies a Y gate to the target qubit when the control qubit is in state $| 1 \\rangle $. \n",
    "\n",
    "- Write down the action of $CY(1,0), 1^{st}$ qubit is the control, $0^{th}$ qubit is the target qubit, on the two dimensional computational basis states, $\\{ |00\\rangle,|01\\rangle,|10\\rangle,|11\\rangle \\}$ \n",
    "- Construct the matrix for $CY(1,0)$ gate. "
   ]
  },
  {
   "cell_type": "markdown",
   "id": "intermediate-mongolia",
   "metadata": {},
   "source": [
    "# Answer\n",
    "\n",
    "$$ CY(1,0) |00\\rangle = |00\\rangle, \\quad  CY(1,0) |01 \\rangle = |01\\rangle $$\n",
    "$$ CY(1,0) |10\\rangle = i|11\\rangle, \\quad  CY(1,0) |11 \\rangle = -i|11\\rangle $$\n",
    "\n",
    "$$ CY(1,0) = \\begin{bmatrix} 1 & 0 & 0 & 0 \\\\ \n",
    "                             0 & 1 & 0 & 0 \\\\\n",
    "                             0 & 0 & 0 & -i \\\\\n",
    "                             0 & 0 & i & 0 \\end{bmatrix}$$\n"
   ]
  },
  {
   "cell_type": "markdown",
   "id": "impressed-andorra",
   "metadata": {},
   "source": [
    "$CNOT$ gate is one of the most powerful tools in quantum computation. Combining $CNOT$ gate with some basic single qubit gates, we can aproximate any unitary transformation into a set of gates up to arbitrary error. This provides a way for us to prove that quantum computation can perform any computation a classical computer can. It also makes way for some interesting homework questions as well!"
   ]
  },
  {
   "cell_type": "markdown",
   "id": "apart-precipitation",
   "metadata": {},
   "source": [
    "# Exercise 11\n",
    "\n",
    "Let's define a more interesting $CX$ gate, call it $C0X$ gate. It acts just like a $CX$ gate, but kind of in reverse. That is, $C0X$ applies an $X$ gate to the target qubit when the control qubit is in $|0\\rangle$ state. \n",
    "- Write down the action of $C0X(1,0)$ gate on basis states.\n",
    "- Write down the matrix representation for $C0X(1,0)$ gate.\n",
    "- Write down a function that takes in a QuantumCircuit, a control and a target qubit index, and applies a $C0X$ gate. Hint: You can do this using $X$ and $CNOT$ gates.\n"
   ]
  },
  {
   "cell_type": "markdown",
   "id": "afraid-grenada",
   "metadata": {},
   "source": [
    "# Answer\n",
    "$$ C0X(1,0) |00\\rangle = |01\\rangle, \\quad  C0X(1,0) |01 \\rangle = |00\\rangle $$\n",
    "$$ C0X(1,0) |10\\rangle = |10\\rangle, \\quad  C0X(1,0) |11 \\rangle = |11\\rangle $$\n",
    "\n",
    "$$ C0X(1,0) = \\begin{bmatrix}0 & 1 & 0 & 0 \\\\ \n",
    "                             1 & 0 & 0 & 0 \\\\\n",
    "                             0 & 0 & 1 & 0 \\\\\n",
    "                             0 & 0 & 0 & 1 \\end{bmatrix}$$"
   ]
  },
  {
   "cell_type": "code",
   "execution_count": 211,
   "id": "unauthorized-eclipse",
   "metadata": {},
   "outputs": [],
   "source": [
    "def c0x(qc,c,t):\n",
    "    '''\n",
    "    Args:\n",
    "        qc: QuantumCircuit\n",
    "        c : control qubit index\n",
    "        t : target qubit index\n",
    "    Returns:\n",
    "        Applies a c0x(c,t) gate to the circuit, returns nothing.\n",
    "    '''\n",
    "    \n",
    "    \n",
    "    qc.cx(c,t)\n",
    "    qc.x(t)\n",
    "        \n",
    "        \n"
   ]
  },
  {
   "cell_type": "code",
   "execution_count": 212,
   "id": "supreme-economics",
   "metadata": {},
   "outputs": [
    {
     "data": {
      "text/latex": [
       "$\\displaystyle \n",
       "C0X(1,0)= \\begin{bmatrix}\n",
       "0 & 1 & 0 & 0  \\\\\n",
       "1 & 0 & 0 & 0  \\\\\n",
       "0 & 0 & 1 & 0  \\\\\n",
       "0 & 0 & 0 & 1  \\\\\n",
       "\\end{bmatrix}\n",
       "$$\n",
       "$"
      ],
      "text/plain": [
       "<IPython.core.display.Math object>"
      ]
     },
     "metadata": {},
     "output_type": "display_data"
    }
   ],
   "source": [
    "# You can test your function by calling this cell, then comparing the printed matrix with the \n",
    "# matrix representation you found in the previous part.\n",
    "from numpy.random import randint\n",
    "from random import sample\n",
    "qc = QuantumCircuit(2)\n",
    "c0x(qc,1,0)\n",
    "from qiskit import Aer,assemble\n",
    "from qiskit_textbook.tools import array_to_latex\n",
    "unisim = Aer.get_backend('unitary_simulator')\n",
    "unitary = unisim.run(assemble(qc)).result().get_unitary()\n",
    "array_to_latex(unitary,pretext=\"C0X(1,0)= \")"
   ]
  },
  {
   "cell_type": "markdown",
   "id": "formal-monthly",
   "metadata": {},
   "source": [
    "# Exercise 12\n",
    "\n",
    "Let's define a way more interesting controlled gate, we call it $C0H$ gate. It acts just like a $C0X$ gate, but instead of applying an $H$ gate to the target qubit when the control qubit is in state $|0\\rangle$, it applies a $H$ gate.  \n",
    "- Write down the action of $C0H(1,0)$ gate on basis states. For simplification purposes, I suggest you to use $|+\\rangle$ and $|-\\rangle$. \n",
    "- Write down the matrix representation for $C0H(1,0)$ gate.\n",
    "- Write down a function that takes in a QuantumCircuit, a control and a target qubit index, and applies a $C0H$ gate. \n",
    "\n"
   ]
  },
  {
   "cell_type": "markdown",
   "id": "removable-roots",
   "metadata": {},
   "source": [
    "# Answer\n",
    "\n",
    "$$ C0H(1,0) |00\\rangle = \\frac{1}{\\sqrt{2}} (|00 \\rangle + |01 \\rangle), \\quad  C0H(1,0) |01 \\rangle = \n",
    "\\frac{1}{\\sqrt{2}} (|00 \\rangle - |01 \\rangle) $$\n",
    "$$ C0H(1,0) |10\\rangle = |10\\rangle, \\quad  C0H(1,0) |11 \\rangle = |11\\rangle $$\n",
    "\n",
    "$$ C0H(1,0) = \\begin{bmatrix}\\frac{1}{\\sqrt{2}}  & \\frac{1}{\\sqrt{2}} & 0 & 0 \\\\ \n",
    "                             \\frac{1}{\\sqrt{2}} & -\\frac{1}{\\sqrt{2}} & 0 & 0 \\\\\n",
    "                             0 & 0 & 1 & 0 \\\\\n",
    "                             0 & 0 & 0 & 1 \\end{bmatrix}$$"
   ]
  },
  {
   "cell_type": "code",
   "execution_count": 235,
   "id": "independent-gravity",
   "metadata": {},
   "outputs": [],
   "source": [
    "def c0h(qc,c,t):\n",
    "    '''\n",
    "    Args:\n",
    "        qc: QuantumCircuit\n",
    "        c : control qubit index\n",
    "        t : target qubit index\n",
    "    Returns:\n",
    "        Applies a c0x(c,t) gate to the circuit, returns nothing.\n",
    "    '''\n",
    "    qc.ry(+pi/4,t)\n",
    "    qc.cx(c,t)\n",
    "    qc.ry(-pi/4,t)\n",
    "    qc.ry(pi/2,t)\n",
    "    qc.x(t)\n"
   ]
  },
  {
   "cell_type": "code",
   "execution_count": 236,
   "id": "fabulous-skirt",
   "metadata": {},
   "outputs": [
    {
     "data": {
      "text/latex": [
       "$\\displaystyle \n",
       "C0H(1,0)= \\begin{bmatrix}\n",
       "\\tfrac{1}{\\sqrt{2}} & \\tfrac{1}{\\sqrt{2}} & 0 & 0  \\\\\n",
       "\\tfrac{1}{\\sqrt{2}} & -\\tfrac{1}{\\sqrt{2}} & 0 & 0  \\\\\n",
       "0 & 0 & 1 & 0  \\\\\n",
       "0 & 0 & 0 & 1  \\\\\n",
       "\\end{bmatrix}\n",
       "$$\n",
       "$"
      ],
      "text/plain": [
       "<IPython.core.display.Math object>"
      ]
     },
     "metadata": {},
     "output_type": "display_data"
    }
   ],
   "source": [
    "# You can test your function by calling this cell, then comparing the printed matrix with the \n",
    "# matrix representation you found in the previous part.\n",
    "from numpy.random import randint\n",
    "from numpy import pi\n",
    "from random import sample\n",
    "qc = QuantumCircuit(2)\n",
    "c0h(qc,1,0)\n",
    "from qiskit import Aer,assemble\n",
    "from qiskit_textbook.tools import array_to_latex\n",
    "unisim = Aer.get_backend('unitary_simulator')\n",
    "unitary = unisim.run(assemble(qc)).result().get_unitary(qc)\n",
    "array_to_latex(unitary,pretext=\"C0H(1,0)= \")"
   ]
  },
  {
   "cell_type": "markdown",
   "id": "governmental-option",
   "metadata": {},
   "source": [
    "# Exercise 13\n",
    "\n",
    "Given an arbitrary unitary transformation $U$, can we construct its controlled version using only single qubit gates and a CNOT ? Please explain your reasoning tentatively.\n"
   ]
  },
  {
   "cell_type": "markdown",
   "id": "biological-account",
   "metadata": {},
   "source": [
    "# Answer\n",
    "\n"
   ]
  },
  {
   "cell_type": "code",
   "execution_count": 237,
   "id": "designed-collar",
   "metadata": {},
   "outputs": [
    {
     "name": "stdout",
     "output_type": "stream",
     "text": [
      "Traceback \u001b[1;36m(most recent call last)\u001b[0m:\n",
      "\u001b[1;36m  File \u001b[1;32m\"/opt/conda/lib/python3.8/site-packages/IPython/core/compilerop.py\"\u001b[1;36m, line \u001b[1;32m101\u001b[1;36m, in \u001b[1;35mast_parse\u001b[1;36m\u001b[0m\n",
      "\u001b[1;33m    return compile(source, filename, symbol, self.flags | PyCF_ONLY_AST, 1)\u001b[0m\n",
      "\u001b[1;36m  File \u001b[1;32m\"<ipython-input-237-d857d3b31362>\"\u001b[1;36m, line \u001b[1;32m1\u001b[0m\n",
      "\u001b[1;33m    Yes we can, because of the Universality of the Quantum Operators\u001b[0m\n",
      "\u001b[1;37m        ^\u001b[0m\n",
      "\u001b[1;31mSyntaxError\u001b[0m\u001b[1;31m:\u001b[0m invalid syntax\n",
      "\n",
      "Use %tb to get the full traceback.\n"
     ]
    },
    {
     "data": {
      "text/html": [
       "\n",
       "<style>\n",
       ".button {\n",
       "  border: none;\n",
       "  color: white;\n",
       "  padding: 4px 8px;\n",
       "  text-align: center;\n",
       "  text-decoration: none;\n",
       "  display: inline-block;\n",
       "  font-size: 12px;\n",
       "  margin: 4px 2px;\n",
       "  transition-duration: 0.2s;\n",
       "  cursor: pointer;\n",
       "}\n",
       ".iqx-button {\n",
       "  background-color: #0f62fe; \n",
       "  color: white; \n",
       "}\n",
       ".iqx-button:hover {\n",
       "  background-color: #0043ce;\n",
       "  color: white;\n",
       "}\n",
       "</style>\n",
       "<a href=\"https://stackoverflow.com/search?q=SyntaxError: invalid syntax\" target='_blank'><button class='button iqx-button'>Search for solution online</button></a>\n"
      ],
      "text/plain": [
       "<IPython.core.display.HTML object>"
      ]
     },
     "metadata": {},
     "output_type": "display_data"
    }
   ],
   "source": [
    "Yes we can, because of the Universality of the Quantum Operators"
   ]
  }
 ],
 "metadata": {
  "kernelspec": {
   "display_name": "Python 3",
   "language": "python",
   "name": "python3"
  },
  "language_info": {
   "codemirror_mode": {
    "name": "ipython",
    "version": 3
   },
   "file_extension": ".py",
   "mimetype": "text/x-python",
   "name": "python",
   "nbconvert_exporter": "python",
   "pygments_lexer": "ipython3",
   "version": "3.8.8"
  }
 },
 "nbformat": 4,
 "nbformat_minor": 5
}
